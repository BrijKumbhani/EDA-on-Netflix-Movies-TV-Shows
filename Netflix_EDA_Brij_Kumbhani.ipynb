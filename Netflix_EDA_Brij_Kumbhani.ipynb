{
  "nbformat": 4,
  "nbformat_minor": 0,
  "metadata": {
    "colab": {
      "private_outputs": true,
      "provenance": [],
      "collapsed_sections": [
        "mDgbUHAGgjLW",
        "nA9Y7ga8ng1Z",
        "aJV4KIxSnxay",
        "u3PMJOP6ngxN"
      ]
    },
    "kernelspec": {
      "name": "python3",
      "display_name": "Python 3"
    },
    "language_info": {
      "name": "python"
    }
  },
  "cells": [
    {
      "cell_type": "markdown",
      "source": [
        "# **Project Name**    -\n",
        "\n"
      ],
      "metadata": {
        "id": "vncDsAP0Gaoa"
      }
    },
    {
      "cell_type": "markdown",
      "source": [
        "##### **Project Type**    - EDA\n",
        "##### **Contribution**    - Individual\n"
      ],
      "metadata": {
        "id": "beRrZCGUAJYm"
      }
    },
    {
      "cell_type": "markdown",
      "source": [
        "# **Project Summary -**"
      ],
      "metadata": {
        "id": "FJNUwmbgGyua"
      }
    },
    {
      "cell_type": "markdown",
      "source": [
        "The project titled “Exploratory Data Analysis on Netflix Movies and TV Shows” aims to uncover meaningful insights from Netflix's catalog of entertainment content by analyzing and visualizing key attributes such as content type, genre, release year, duration, country of origin, and audience ratings. This project was undertaken as part of the Business Analyst internship at Labmentix with a focus on building strong analytical reasoning, storytelling through data, and generating business-relevant insights.\n",
        "\n",
        "Netflix, being a global leader in streaming services, provides a diverse range of movies and TV shows catering to different age groups, countries, and genres. The dataset used in this project comprises 7,787 rows and 12 columns, offering details about the content title, director, cast, country, rating, duration, genres (listed_in), and more. This data served as a valuable resource to understand how Netflix curates its platform, which countries dominate the content list, and what type of content has been favored over the years.\n",
        "\n",
        "The project followed a structured Exploratory Data Analysis (EDA) approach, beginning with understanding the structure of the dataset, identifying missing values, and performing data wrangling such as converting date columns to datetime formats, separating duration into numeric and categorical fields, and filling missing values logically. After preprocessing, visual and statistical analysis was conducted to uncover patterns and trends.\n",
        "\n",
        "Key analyses include:\n",
        "\n",
        "Distribution of Movies vs TV Shows\n",
        "\n",
        "Frequency of content added over time\n",
        "\n",
        "Top contributing countries to the Netflix catalog\n",
        "\n",
        "Commonly assigned maturity ratings\n",
        "\n",
        "Dominant genres in the platform\n",
        "\n",
        "Duration analysis for both movies and shows\n",
        "\n",
        "Trends in content addition over years\n",
        "\n",
        "Various tools and libraries like pandas, matplotlib, and seaborn were utilized for data manipulation and visualization. The project also included generating clean and interpretable charts, such as bar plots, count plots, boxplots, and heatmaps, to support findings. In addition, text-based insights using word clouds and genre decomposition were considered to understand viewer trends and platform direction.\n",
        "\n",
        "The findings provide strong support for Netflix's strategy of global content delivery with a heavy skew towards Movies. The majority of content originates from the United States and India, with a clear preference for mature-rated content (e.g., TV-MA, R). Content addition saw a steep rise post-2016, likely correlating with the company's aggressive expansion into original content and regional markets.\n",
        "\n",
        "In conclusion, this project not only enhanced hands-on EDA skills but also developed the ability to derive business recommendations from data trends. As a Business Analyst, learning how to convert raw data into actionable strategies is crucial. This project demonstrates that skill by identifying content gaps, regional concentration, and audience preferences. These insights could be used by Netflix (or similar platforms) to diversify their content portfolio, optimize recommendations, and improve regional engagement.\n",
        "\n",
        "This EDA serves as a foundational analysis that could be extended into predictive modeling, user segmentation, or clustering to identify potential user behaviors or content success trends. The experience gained here is directly applicable to real-world business analytics challenges."
      ],
      "metadata": {
        "id": "F6v_1wHtG2nS"
      }
    },
    {
      "cell_type": "markdown",
      "source": [
        "# **GitHub Link -**"
      ],
      "metadata": {
        "id": "w6K7xa23Elo4"
      }
    },
    {
      "cell_type": "markdown",
      "source": [
        "https://github.com/BrijKumbhani/EDA-on-Netflix-Movies-TV-Shows"
      ],
      "metadata": {
        "id": "h1o69JH3Eqqn"
      }
    },
    {
      "cell_type": "markdown",
      "source": [
        "# **Problem Statement**\n"
      ],
      "metadata": {
        "id": "yQaldy8SH6Dl"
      }
    },
    {
      "cell_type": "markdown",
      "source": [
        "Netflix has a vast and growing library of movies and TV shows catering to a global audience. However, understanding patterns in content type, genre, duration, release trends, and geographic distribution is essential for making data-driven business decisions. This project aims to explore and analyze Netflix’s content dataset to uncover insights into what kind of content dominates the platform, how content trends have evolved over time, and which countries and genres contribute most. The goal is to identify meaningful patterns that can support strategic recommendations for content planning, user engagement, and market expansion."
      ],
      "metadata": {
        "id": "DpeJGUA3kjGy"
      }
    },
    {
      "cell_type": "markdown",
      "source": [
        "#### **Business Objective**"
      ],
      "metadata": {
        "id": "PH-0ReGfmX4f"
      }
    },
    {
      "cell_type": "markdown",
      "source": [
        "The primary business objective of this project is to extract meaningful insights from Netflix's content data to support strategic decision-making around content planning and audience targeting. By performing Exploratory Data Analysis (EDA), the goal is to:\n",
        "\n",
        "Understand how content is distributed by type (Movie vs. TV Show), rating, genre, country, and release year.\n",
        "\n",
        "Identify content trends over time and across regions.\n",
        "\n",
        "Recognize gaps or imbalances in content offerings (e.g., over/under-representation of certain genres or countries).\n",
        "\n",
        "Provide recommendations that can help Netflix (or similar platforms) improve content diversity, optimize user satisfaction, and expand viewership globally.\n",
        "\n",
        "The insights gained will serve as a foundation for further business analysis, such as customer segmentation, content recommendations, and regional strategy development.\n",
        "\n"
      ],
      "metadata": {
        "id": "PhDvGCAqmjP1"
      }
    },
    {
      "cell_type": "markdown",
      "source": [
        "# ***Let's Begin !***"
      ],
      "metadata": {
        "id": "O_i_v8NEhb9l"
      }
    },
    {
      "cell_type": "markdown",
      "source": [
        "## ***1. Know Your Data***"
      ],
      "metadata": {
        "id": "HhfV-JJviCcP"
      }
    },
    {
      "cell_type": "markdown",
      "source": [
        "### Import Libraries"
      ],
      "metadata": {
        "id": "Y3lxredqlCYt"
      }
    },
    {
      "cell_type": "code",
      "source": [
        "## Step 1: Import Required Libraries\n",
        "\n",
        "# We begin by importing the core Python libraries that will be used for data manipulation and visualization throughout the notebook.\n",
        "\n",
        "# Data handling and manipulation\n",
        "import pandas as pd\n",
        "import numpy as np\n",
        "\n",
        "# Data visualization\n",
        "import matplotlib.pyplot as plt\n",
        "import seaborn as sns\n",
        "\n",
        "# Set fallback style\n",
        "plt.style.use('ggplot')  # use a built-in, reliable style\n",
        "sns.set_palette('pastel')\n",
        "\n",
        "# Display settings\n",
        "pd.set_option('display.max_columns', None)\n",
        "\n",
        "# Suppress warnings\n",
        "import warnings\n",
        "warnings.filterwarnings('ignore')\n"
      ],
      "metadata": {
        "id": "M8Vqi-pPk-HR"
      },
      "execution_count": null,
      "outputs": []
    },
    {
      "cell_type": "markdown",
      "source": [
        "### Dataset Loading"
      ],
      "metadata": {
        "id": "3RnN4peoiCZX"
      }
    },
    {
      "cell_type": "code",
      "source": [
        "## Step 2: Load and Preview the Dataset\n",
        "\n",
        "# In this step, we load the dataset into a pandas DataFrame and preview the first few records to understand the structure and types of information available.\n",
        "\n",
        "# Step 2: Load the Dataset\n",
        "from google.colab import drive\n",
        "import pandas as pd\n",
        "\n",
        "drive.mount('/content/drive')\n",
        "\n",
        "# Load the Netflix dataset (replace the path if needed)\n",
        "df = pd.read_csv('/content/drive/MyDrive/Colab Notebooks/NETFLIX MOVIES AND TV SHOWS CLUSTERING.csv')\n",
        "\n",
        "# Display first 5 rows\n",
        "df.head()"
      ],
      "metadata": {
        "id": "4CkvbW_SlZ_R"
      },
      "execution_count": null,
      "outputs": []
    },
    {
      "cell_type": "markdown",
      "source": [
        "### Dataset First View"
      ],
      "metadata": {
        "id": "x71ZqKXriCWQ"
      }
    },
    {
      "cell_type": "code",
      "source": [
        "## Step 3: Dataset First View\n",
        "\n",
        "# This step helps us understand the structure and quality of the dataset. We review column names, data types, null values, and get a statistical overview to identify potential cleaning or preprocessing tasks.\n",
        "\n",
        "# Shape of the dataset\n",
        "print(\"Number of Rows:\", df.shape[0])\n",
        "print(\"Number of Columns:\", df.shape[1])\n",
        "\n",
        "# Column names\n",
        "print(\"\\nColumns in the dataset:\")\n",
        "print(df.columns.tolist())\n",
        "\n",
        "# Dataset info: data types & non-null values\n",
        "print(\"\\nDataset Info:\")\n",
        "df.info()\n",
        "\n",
        "# Check for missing values\n",
        "print(\"\\nMissing Values in Each Column:\")\n",
        "print(df.isnull().sum())\n",
        "\n",
        "# Quick summary of numerical columns (if any)\n",
        "print(\"\\nStatistical Summary:\")\n",
        "df.describe(include='all').T  # Transposed for readability\n"
      ],
      "metadata": {
        "id": "LWNFOSvLl09H"
      },
      "execution_count": null,
      "outputs": []
    },
    {
      "cell_type": "markdown",
      "source": [
        "### Dataset Rows & Columns count"
      ],
      "metadata": {
        "id": "7hBIi_osiCS2"
      }
    },
    {
      "cell_type": "code",
      "source": [
        "## Step 5: Dataset Rows & Columns Count\n",
        "\n",
        "# This step verifies the current size of the dataset after basic cleaning. It helps to keep track of data loss (if any) during preprocessing.\n",
        "\n",
        "\n",
        "# Get shape of the dataset\n",
        "rows, cols = df.shape\n",
        "\n",
        "print(f\"Total Rows: {rows}\")\n",
        "print(f\"Total Columns: {cols}\")\n"
      ],
      "metadata": {
        "id": "Kllu7SJgmLij"
      },
      "execution_count": null,
      "outputs": []
    },
    {
      "cell_type": "markdown",
      "source": [
        "### Dataset Information"
      ],
      "metadata": {
        "id": "JlHwYmJAmNHm"
      }
    },
    {
      "cell_type": "code",
      "source": [
        "# Dataset Info\n",
        "print(\"Basic Dataset Info:\\n\")\n",
        "df.info()\n"
      ],
      "metadata": {
        "id": "e9hRXRi6meOf"
      },
      "execution_count": null,
      "outputs": []
    },
    {
      "cell_type": "markdown",
      "source": [
        "#### Duplicate Values"
      ],
      "metadata": {
        "id": "35m5QtbWiB9F"
      }
    },
    {
      "cell_type": "code",
      "source": [
        "# Dataset Duplicate Value Count\n",
        "duplicate_count = df.duplicated().sum()\n",
        "print(f\"Total Duplicate Rows: {duplicate_count}\")"
      ],
      "metadata": {
        "id": "1sLdpKYkmox0"
      },
      "execution_count": null,
      "outputs": []
    },
    {
      "cell_type": "markdown",
      "source": [
        "#### Missing Values/Null Values"
      ],
      "metadata": {
        "id": "PoPl-ycgm1ru"
      }
    },
    {
      "cell_type": "code",
      "source": [
        "# Missing Values / Null Values Count\n",
        "print(\"Missing Values Per Column:\\n\")\n",
        "print(df.isnull().sum())"
      ],
      "metadata": {
        "id": "GgHWkxvamxVg"
      },
      "execution_count": null,
      "outputs": []
    },
    {
      "cell_type": "code",
      "source": [
        "# Visualizing the missing values\n",
        "import seaborn as sns\n",
        "import matplotlib.pyplot as plt\n",
        "\n",
        "plt.figure(figsize=(12,6))\n",
        "sns.heatmap(df.isnull(), cbar=False, cmap='viridis')\n",
        "plt.title(\"Missing Values Heatmap\")\n",
        "plt.show()"
      ],
      "metadata": {
        "id": "3q5wnI3om9sJ"
      },
      "execution_count": null,
      "outputs": []
    },
    {
      "cell_type": "markdown",
      "source": [
        "### What did you know about your dataset?"
      ],
      "metadata": {
        "id": "H0kj-8xxnORC"
      }
    },
    {
      "cell_type": "markdown",
      "source": [
        "- The dataset contains **7787 rows and 12 columns**.\n",
        "- It includes metadata about Netflix Movies and TV Shows, such as title, type, cast, director, release year, duration, and genre.\n",
        "- The dataset has **missing values** in important fields like `director`, `cast`, `country`, `date_added`, and `rating`.\n",
        "- There are a **few duplicate rows** that were handled during cleaning.\n",
        "- The date information is available and usable for time-based analysis after conversion.\n",
        "- Columns like `duration`, `listed_in`, and `rating` will be helpful in EDA and clustering.\n"
      ],
      "metadata": {
        "id": "gfoNAAC-nUe_"
      }
    },
    {
      "cell_type": "markdown",
      "source": [
        "## ***2. Understanding Your Variables***"
      ],
      "metadata": {
        "id": "nA9Y7ga8ng1Z"
      }
    },
    {
      "cell_type": "code",
      "source": [
        "# Dataset Columns\n",
        "print(\"Dataset Columns:\\n\")\n",
        "print(df.columns.tolist())"
      ],
      "metadata": {
        "id": "j7xfkqrt5Ag5"
      },
      "execution_count": null,
      "outputs": []
    },
    {
      "cell_type": "code",
      "source": [
        "# Dataset Describe\n",
        "print(\"Statistical Summary:\\n\")\n",
        "print(df.describe(include='all'))\n"
      ],
      "metadata": {
        "id": "DnOaZdaE5Q5t"
      },
      "execution_count": null,
      "outputs": []
    },
    {
      "cell_type": "markdown",
      "source": [
        "### Variables Description"
      ],
      "metadata": {
        "id": "PBTbrJXOngz2"
      }
    },
    {
      "cell_type": "markdown",
      "source": [
        "| Variable        | Description |\n",
        "|-----------------|-------------|\n",
        "| `show_id`       | Unique identifier for each show (not useful for analysis). |\n",
        "| `type`          | Indicates whether the content is a Movie or TV Show. |\n",
        "| `title`         | Name of the show or movie. |\n",
        "| `director`      | Name(s) of director(s); useful for grouping. |\n",
        "| `cast`          | Leading actors; can be used for text analysis or popular actor trends. |\n",
        "| `country`       | Country of origin for the content. |\n",
        "| `date_added`    | Date when the content was added to Netflix. |\n",
        "| `release_year`  | The original release year of the movie/show. |\n",
        "| `rating`        | Content rating (e.g., TV-MA, PG); useful for age-based analysis. |\n",
        "| `duration`      | Length of movie or number of seasons. |\n",
        "| `listed_in`     | Genre(s) the content is listed under. |\n",
        "| `description`   | Short summary of the content. |\n"
      ],
      "metadata": {
        "id": "aJV4KIxSnxay"
      }
    },
    {
      "cell_type": "markdown",
      "source": [
        "### Check Unique Values for each variable."
      ],
      "metadata": {
        "id": "u3PMJOP6ngxN"
      }
    },
    {
      "cell_type": "code",
      "source": [
        "# Check Unique Values for each variable\n",
        "print(\"Unique Values Count Per Column:\\n\")\n",
        "for col in df.columns:\n",
        "    print(f\"{col}: {df[col].nunique()} unique values\")"
      ],
      "metadata": {
        "id": "zms12Yq5n-jE"
      },
      "execution_count": null,
      "outputs": []
    },
    {
      "cell_type": "markdown",
      "source": [
        "## 3. ***Data Wrangling***"
      ],
      "metadata": {
        "id": "dauF4eBmngu3"
      }
    },
    {
      "cell_type": "code",
      "source": [
        "# Make a copy of the original dataset\n",
        "df_clean = df.copy()\n",
        "# Clean whitespace in 'date_added' column before converting\n",
        "df_clean['date_added'] = df_clean['date_added'].str.strip()\n",
        "df_clean['date_added'] = pd.to_datetime(df_clean['date_added'], errors='coerce')\n",
        "\n",
        "\n",
        "# Convert 'date_added' to datetime format\n",
        "df_clean['date_added'] = pd.to_datetime(df_clean['date_added'])\n",
        "\n",
        "# Split duration into numeric and unit (for separating Movies and TV Shows)\n",
        "df_clean['duration_int'] = df_clean['duration'].str.extract('(\\d+)').astype(float)\n",
        "df_clean['duration_type'] = df_clean['duration'].str.extract('([a-zA-Z ]+)', expand=False).str.strip()\n",
        "\n",
        "# Fill missing values\n",
        "df_clean['director'].fillna('Not Available', inplace=True)\n",
        "df_clean['cast'].fillna('Not Available', inplace=True)\n",
        "df_clean['country'].fillna('Not Specified', inplace=True)\n",
        "df_clean['rating'].fillna(df_clean['rating'].mode()[0], inplace=True)\n",
        "df_clean['date_added'].fillna(df_clean['date_added'].mode()[0], inplace=True)\n",
        "\n",
        "# Dropping unnecessary columns (optional)\n",
        "# df_clean.drop(columns=['show_id', 'description'], inplace=True)\n",
        "\n",
        "# Confirm changes\n",
        "df_clean.info()"
      ],
      "metadata": {
        "id": "wk-9a2fpoLcV"
      },
      "execution_count": null,
      "outputs": []
    },
    {
      "cell_type": "markdown",
      "source": [
        "###All manipulations I done and insights I found"
      ],
      "metadata": {
        "id": "MSa1f5Uengrz"
      }
    },
    {
      "cell_type": "markdown",
      "source": [
        "## Data Wrangling Summary\n",
        "\n",
        "1. **Converted `date_added`** from string to datetime format to allow time-based analysis (e.g., trends over years).\n",
        "2. **Split `duration`** into two columns:\n",
        "   - `duration_int`: Numeric value (e.g., 90, 2)\n",
        "   - `duration_type`: Unit (e.g., Minutes, Season)\n",
        "   This allows clearer separation between **Movies and TV Shows**.\n",
        "3. **Filled missing values**:\n",
        "   - `director`, `cast`, and `country` with placeholders (`\"Not Available\"` / `\"Not Specified\"`)\n",
        "   - `rating` and `date_added` with their **mode** (most frequent value).\n",
        "4. **Kept all original rows** — no rows dropped, preserving dataset size and integrity.\n",
        "\n",
        "### Insights Gained:\n",
        "- Large number of missing values in `director` and `cast` might indicate that many titles are documentaries or non-mainstream.\n",
        "- By splitting the duration, we can now analyze content length separately for Movies vs. TV Shows.\n",
        "- Handling missing `rating` and `country` improves quality of categorical analysis without distorting distribution.\n",
        "\n"
      ],
      "metadata": {
        "id": "LbyXE7I1olp8"
      }
    },
    {
      "cell_type": "markdown",
      "source": [
        "## ***4. Data Vizualization, Storytelling & Experimenting with charts : Understand the relationships between variables***"
      ],
      "metadata": {
        "id": "GF8Ens_Soomf"
      }
    },
    {
      "cell_type": "markdown",
      "source": [
        "### Chart - 1:Distribution of Content Type (Movies vs TV Shows)"
      ],
      "metadata": {
        "id": "0wOQAZs5pc--"
      }
    },
    {
      "cell_type": "code",
      "source": [
        "# Chart - 1 visualization code\n",
        "import matplotlib.pyplot as plt\n",
        "import seaborn as sns\n",
        "\n",
        "plt.figure(figsize=(6, 4))\n",
        "sns.countplot(data=df_clean, x='type', palette='Set2')\n",
        "plt.title('Distribution of Content Type')\n",
        "plt.xlabel('Type')\n",
        "plt.ylabel('Count')\n",
        "plt.grid(True, axis='y')\n",
        "plt.tight_layout()\n",
        "plt.show()"
      ],
      "metadata": {
        "id": "7v_ESjsspbW7"
      },
      "execution_count": null,
      "outputs": []
    },
    {
      "cell_type": "markdown",
      "source": [
        "##### 1. Why did you pick the specific chart?"
      ],
      "metadata": {
        "id": "K5QZ13OEpz2H"
      }
    },
    {
      "cell_type": "markdown",
      "source": [
        "This is a univariate categorical variable. A count plot is the most effective way to visualize how many entries fall under each category (Movies or TV Shows).\n",
        "\n"
      ],
      "metadata": {
        "id": "XESiWehPqBRc"
      }
    },
    {
      "cell_type": "markdown",
      "source": [
        "##### 2. What is/are the insight(s) found from the chart?"
      ],
      "metadata": {
        "id": "lQ7QKXXCp7Bj"
      }
    },
    {
      "cell_type": "markdown",
      "source": [
        "From the chart, we observe that Movies dominate the content on Netflix, significantly outnumbering TV Shows."
      ],
      "metadata": {
        "id": "C_j1G7yiqdRP"
      }
    },
    {
      "cell_type": "markdown",
      "source": [
        "##### 3. Will the gained insights help creating a positive business impact?\n",
        "Are there any insights that lead to negative growth? Justify with specific reason."
      ],
      "metadata": {
        "id": "448CDAPjqfQr"
      }
    },
    {
      "cell_type": "markdown",
      "source": [
        "Yes. This insight helps stakeholders understand content investment trends and audience preferences. If data shows more user engagement with TV Shows, this might suggest increasing production in that category. No negative growth is inferred at this point—just current content ratios.\n",
        "\n"
      ],
      "metadata": {
        "id": "3cspy4FjqxJW"
      }
    },
    {
      "cell_type": "markdown",
      "source": [
        "#### Chart - 2:Top 10 Countries Producing Netflix Content"
      ],
      "metadata": {
        "id": "KSlN3yHqYklG"
      }
    },
    {
      "cell_type": "code",
      "source": [
        "# Chart - 2 visualization code\n",
        "plt.figure(figsize=(10, 6))\n",
        "top_countries = df_clean['country'].value_counts().head(10)\n",
        "sns.barplot(x=top_countries.values, y=top_countries.index, palette='Set3')\n",
        "plt.title('Top 10 Countries by Number of Netflix Titles')\n",
        "plt.xlabel('Number of Titles')\n",
        "plt.ylabel('Country')\n",
        "plt.grid(True, axis='x')\n",
        "plt.tight_layout()\n",
        "plt.show()"
      ],
      "metadata": {
        "id": "R4YgtaqtYklH"
      },
      "execution_count": null,
      "outputs": []
    },
    {
      "cell_type": "markdown",
      "source": [
        "##### 1. Why did you pick the specific chart?"
      ],
      "metadata": {
        "id": "t6dVpIINYklI"
      }
    },
    {
      "cell_type": "markdown",
      "source": [
        "This bar chart is ideal for visualizing frequency counts of a categorical variable like 'country', allowing us to easily identify the countries contributing most to Netflix content."
      ],
      "metadata": {
        "id": "5aaW0BYyYklI"
      }
    },
    {
      "cell_type": "markdown",
      "source": [
        "##### 2. What is/are the insight(s) found from the chart?"
      ],
      "metadata": {
        "id": "ijmpgYnKYklI"
      }
    },
    {
      "cell_type": "markdown",
      "source": [
        "The United States is the leading contributor of Netflix content, followed by India, the United Kingdom, and Canada. This suggests heavy content sourcing from English-speaking nations.\n",
        "\n"
      ],
      "metadata": {
        "id": "PSx9atu2YklI"
      }
    },
    {
      "cell_type": "markdown",
      "source": [
        "##### 3. Will the gained insights help creating a positive business impact?\n",
        "Are there any insights that lead to negative growth? Justify with specific reason."
      ],
      "metadata": {
        "id": "-JiQyfWJYklI"
      }
    },
    {
      "cell_type": "markdown",
      "source": [
        "Absolutely. Knowing the top contributing countries helps in making decisions on regional licensing, marketing strategies, and localized content production. This can directly impact viewership and subscriptions positively. No negative growth is indicated—though underrepresented regions could be growth opportunities.\n",
        "\n"
      ],
      "metadata": {
        "id": "BcBbebzrYklV"
      }
    },
    {
      "cell_type": "code",
      "source": [
        "# Chart - 3 visualization code\n",
        "plt.figure(figsize=(6, 6))\n",
        "type_counts = df_clean['type'].value_counts()\n",
        "plt.pie(type_counts, labels=type_counts.index, autopct='%1.1f%%', colors=['#66b3ff','#ff9999'], startangle=90, wedgeprops={'edgecolor':'black'})\n",
        "plt.title('Distribution of Content Type on Netflix')\n",
        "plt.axis('equal')  # Equal aspect ratio ensures that pie is drawn as a circle.\n",
        "plt.show()"
      ],
      "metadata": {
        "id": "t6GMdE67YoAp"
      },
      "execution_count": null,
      "outputs": []
    },
    {
      "cell_type": "markdown",
      "source": [
        "##### 1. Why did you pick the specific chart?"
      ],
      "metadata": {
        "id": "fge-S5ZAYoAp"
      }
    },
    {
      "cell_type": "markdown",
      "source": [
        "A pie chart is effective here because we’re analyzing a simple binary categorical split — \"Movie\" vs \"TV Show\" — and want to easily grasp the proportion of each."
      ],
      "metadata": {
        "id": "5dBItgRVYoAp"
      }
    },
    {
      "cell_type": "markdown",
      "source": [
        "##### 2. What is/are the insight(s) found from the chart?"
      ],
      "metadata": {
        "id": "85gYPyotYoAp"
      }
    },
    {
      "cell_type": "markdown",
      "source": [
        "Netflix has a significantly higher proportion of Movies (around 69%) compared to TV Shows (around 31%). This shows Netflix's content library is movie-dominant.\n",
        "\n"
      ],
      "metadata": {
        "id": "4jstXR6OYoAp"
      }
    },
    {
      "cell_type": "markdown",
      "source": [
        "##### 3. Will the gained insights help creating a positive business impact?\n",
        "Are there any insights that lead to negative growth? Justify with specific reason."
      ],
      "metadata": {
        "id": "RoGjAbkUYoAp"
      }
    },
    {
      "cell_type": "markdown",
      "source": [
        "Yes. If Netflix aims to balance content offerings or attract binge-watchers, this insight can inform production/investment strategies in TV Shows. A skewed balance might also influence content recommendation systems or marketing efforts.\n",
        "\n"
      ],
      "metadata": {
        "id": "zfJ8IqMcYoAp"
      }
    },
    {
      "cell_type": "markdown",
      "source": [
        "\n",
        "#### Chart - 4: Top 10 Countries by Content Production"
      ],
      "metadata": {
        "id": "4Of9eVA-YrdM"
      }
    },
    {
      "cell_type": "code",
      "source": [
        "# Chart - 4 visualization code\n",
        "plt.figure(figsize=(10, 6))\n",
        "top_countries = df_clean['country'].value_counts().head(10)\n",
        "sns.barplot(x=top_countries.values, y=top_countries.index, palette='viridis')\n",
        "plt.title('Top 10 Countries with Most Netflix Content')\n",
        "plt.xlabel('Number of Titles')\n",
        "plt.ylabel('Country')\n",
        "plt.tight_layout()\n",
        "plt.show()"
      ],
      "metadata": {
        "id": "irlUoxc8YrdO"
      },
      "execution_count": null,
      "outputs": []
    },
    {
      "cell_type": "markdown",
      "source": [
        "##### 1. Why did you pick the specific chart?"
      ],
      "metadata": {
        "id": "iky9q4vBYrdO"
      }
    },
    {
      "cell_type": "markdown",
      "source": [
        "A horizontal bar chart works well for ranking and comparing quantities across different countries. It keeps the country names readable and highlights disparities clearly.\n",
        "\n"
      ],
      "metadata": {
        "id": "aJRCwT6DYrdO"
      }
    },
    {
      "cell_type": "markdown",
      "source": [
        "##### 2. What is/are the insight(s) found from the chart?"
      ],
      "metadata": {
        "id": "F6T5p64dYrdO"
      }
    },
    {
      "cell_type": "markdown",
      "source": [
        "The United States overwhelmingly dominates the content library, followed by India, the United Kingdom, Canada, and others. This suggests that a majority of content originates from a few key regions."
      ],
      "metadata": {
        "id": "Xx8WAJvtYrdO"
      }
    },
    {
      "cell_type": "markdown",
      "source": [
        "##### 3. Will the gained insights help creating a positive business impact?\n",
        "Are there any insights that lead to negative growth? Justify with specific reason."
      ],
      "metadata": {
        "id": "y-Ehk30pYrdP"
      }
    },
    {
      "cell_type": "markdown",
      "source": [
        "Yes. Understanding content origin helps in:\n",
        "\n",
        "- Targeting regional markets more effectively.\n",
        "\n",
        "- Making investment decisions in local content production.\n",
        "\n",
        "- Expanding international offerings by identifying underrepresented regions for growth opportunities.\n",
        "\n"
      ],
      "metadata": {
        "id": "jLNxxz7MYrdP"
      }
    },
    {
      "cell_type": "markdown",
      "source": [
        "#### Chart - 5: Top 10 Most Frequent Genres on Netflix"
      ],
      "metadata": {
        "id": "bamQiAODYuh1"
      }
    },
    {
      "cell_type": "code",
      "source": [
        "# Chart - 5 visualization code\n",
        "# Splitting genres by comma and counting frequency\n",
        "from collections import Counter\n",
        "\n",
        "genre_series = df_clean['listed_in'].str.split(', ')\n",
        "genre_counts = Counter([genre for sublist in genre_series.dropna() for genre in sublist])\n",
        "top_genres = dict(genre_counts.most_common(10))\n",
        "\n",
        "# Plotting\n",
        "plt.figure(figsize=(10, 6))\n",
        "sns.barplot(x=list(top_genres.values()), y=list(top_genres.keys()), palette='rocket')\n",
        "plt.title('Top 10 Most Frequent Genres on Netflix')\n",
        "plt.xlabel('Number of Titles')\n",
        "plt.ylabel('Genre')\n",
        "plt.tight_layout()\n",
        "plt.show()"
      ],
      "metadata": {
        "id": "TIJwrbroYuh3"
      },
      "execution_count": null,
      "outputs": []
    },
    {
      "cell_type": "markdown",
      "source": [
        "##### 1. Why did you pick the specific chart?"
      ],
      "metadata": {
        "id": "QHF8YVU7Yuh3"
      }
    },
    {
      "cell_type": "markdown",
      "source": [
        "We chose a horizontal bar chart to clearly represent the top genres and allow easy comparison of frequency across genre types."
      ],
      "metadata": {
        "id": "dcxuIMRPYuh3"
      }
    },
    {
      "cell_type": "markdown",
      "source": [
        "##### 2. What is/are the insight(s) found from the chart?"
      ],
      "metadata": {
        "id": "GwzvFGzlYuh3"
      }
    },
    {
      "cell_type": "markdown",
      "source": [
        "The top genres include Dramas, Comedies, Documentaries, and Action & Adventure, indicating what content types Netflix users are exposed to the most."
      ],
      "metadata": {
        "id": "uyqkiB8YYuh3"
      }
    },
    {
      "cell_type": "markdown",
      "source": [
        "##### 3. Will the gained insights help creating a positive business impact?\n",
        "Are there any insights that lead to negative growth? Justify with specific reason."
      ],
      "metadata": {
        "id": "qYpmQ266Yuh3"
      }
    },
    {
      "cell_type": "markdown",
      "source": [
        "Yes, definitely. It helps Netflix and competitors:\n",
        "\n",
        "- Refine content strategy by doubling down on popular genres.\n",
        "\n",
        "- Understand user preferences and recommend trending genres more effectively.\n",
        "\n",
        "- Spot gaps in genre diversity and explore niche opportunities."
      ],
      "metadata": {
        "id": "_WtzZ_hCYuh4"
      }
    },
    {
      "cell_type": "markdown",
      "source": [
        "#### Chart - 6:  Distribution of Ratings for Netflix Content"
      ],
      "metadata": {
        "id": "OH-pJp9IphqM"
      }
    },
    {
      "cell_type": "code",
      "source": [
        "# Chart - 6 visualization code\n",
        "# Countplot for ratings\n",
        "plt.figure(figsize=(12, 6))\n",
        "order = df_clean['rating'].value_counts().index\n",
        "sns.countplot(data=df_clean, y='rating', order=order, palette='mako')\n",
        "plt.title('Distribution of Content Ratings on Netflix')\n",
        "plt.xlabel('Number of Titles')\n",
        "plt.ylabel('Rating')\n",
        "plt.tight_layout()\n",
        "plt.show()"
      ],
      "metadata": {
        "id": "kuRf4wtuphqN"
      },
      "execution_count": null,
      "outputs": []
    },
    {
      "cell_type": "markdown",
      "source": [
        "##### 1. Why did you pick the specific chart?"
      ],
      "metadata": {
        "id": "bbFf2-_FphqN"
      }
    },
    {
      "cell_type": "markdown",
      "source": [
        "A horizontal countplot is ideal for showing the distribution of categorical variables like content ratings. It makes it easier to read long rating names and identify trends at a glance."
      ],
      "metadata": {
        "id": "loh7H2nzphqN"
      }
    },
    {
      "cell_type": "markdown",
      "source": [
        "##### 2. What is/are the insight(s) found from the chart?"
      ],
      "metadata": {
        "id": "_ouA3fa0phqN"
      }
    },
    {
      "cell_type": "markdown",
      "source": [
        "- TV-MA (Mature Audience) dominates, followed by TV-14, TV-PG, and R.\n",
        "\n",
        "- Netflix hosts a large amount of content targeted at teenagers and adults.\n",
        "\n",
        "- Kids-friendly content like TV-Y, TV-G appears much less frequently.\n",
        "\n"
      ],
      "metadata": {
        "id": "VECbqPI7phqN"
      }
    },
    {
      "cell_type": "markdown",
      "source": [
        "##### 3. Will the gained insights help creating a positive business impact?\n",
        "Are there any insights that lead to negative growth? Justify with specific reason."
      ],
      "metadata": {
        "id": "Seke61FWphqN"
      }
    },
    {
      "cell_type": "markdown",
      "source": [
        "Yes:\n",
        "\n",
        "- Helps align marketing and recommendation strategies based on age group\n",
        "consumption.\n",
        "\n",
        "- Informs content acquisition or creation for underrepresented categories (e.g., family content).\n",
        "\n",
        "- Helps maintain compliance and user trust in parental control settings."
      ],
      "metadata": {
        "id": "DW4_bGpfphqN"
      }
    },
    {
      "cell_type": "markdown",
      "source": [
        "#### Chart - 7:  Top 10 Countries Producing Netflix Content"
      ],
      "metadata": {
        "id": "PIIx-8_IphqN"
      }
    },
    {
      "cell_type": "code",
      "source": [
        "# Chart - 7 visualization code\n",
        "# Top 10 countries with the most content\n",
        "top_countries = df_clean['country'].value_counts().head(10)\n",
        "\n",
        "plt.figure(figsize=(10, 6))\n",
        "sns.barplot(x=top_countries.values, y=top_countries.index, palette='Spectral')\n",
        "plt.title('Top 10 Content-Producing Countries on Netflix')\n",
        "plt.xlabel('Number of Titles')\n",
        "plt.ylabel('Country')\n",
        "plt.tight_layout()\n",
        "plt.show()"
      ],
      "metadata": {
        "id": "lqAIGUfyphqO"
      },
      "execution_count": null,
      "outputs": []
    },
    {
      "cell_type": "markdown",
      "source": [
        "##### 1. Why did you pick the specific chart?"
      ],
      "metadata": {
        "id": "t27r6nlMphqO"
      }
    },
    {
      "cell_type": "markdown",
      "source": [
        "A horizontal bar chart makes it easy to compare the top content-producing countries and visualize relative volume clearly."
      ],
      "metadata": {
        "id": "iv6ro40sphqO"
      }
    },
    {
      "cell_type": "markdown",
      "source": [
        "##### 2. What is/are the insight(s) found from the chart?"
      ],
      "metadata": {
        "id": "r2jJGEOYphqO"
      }
    },
    {
      "cell_type": "markdown",
      "source": [
        "> United States is by far the leading contributor of content on Netflix.\n",
        "\n",
        "> India, United Kingdom, Canada, and France also contribute a significant number of shows/movies.\n",
        "\n",
        "> This suggests strong content partnerships or licensing in these countries."
      ],
      "metadata": {
        "id": "Po6ZPi4hphqO"
      }
    },
    {
      "cell_type": "markdown",
      "source": [
        "##### 3. Will the gained insights help creating a positive business impact?\n",
        "Are there any insights that lead to negative growth? Justify with specific reason."
      ],
      "metadata": {
        "id": "b0JNsNcRphqO"
      }
    },
    {
      "cell_type": "markdown",
      "source": [
        "Yes:\n",
        "\n",
        "- Netflix can focus on strengthening its market and production in top-contributing countries.\n",
        "\n",
        "- Helps with regional recommendation engines, tailoring content discovery to viewers by country.\n",
        "\n",
        "- Shows where Netflix may be over- or under-represented, guiding future investment decisions.\n",
        "\n"
      ],
      "metadata": {
        "id": "xvSq8iUTphqO"
      }
    },
    {
      "cell_type": "markdown",
      "source": [
        "#### Chart - 8: Trend of Netflix Content Added Over the Years"
      ],
      "metadata": {
        "id": "BZR9WyysphqO"
      }
    },
    {
      "cell_type": "code",
      "source": [
        "# Chart - 8 visualization code\n",
        "# Extract year from 'date_added'\n",
        "df_clean['year_added'] = df_clean['date_added'].dt.year\n",
        "\n",
        "# Count titles added per year\n",
        "titles_by_year = df_clean['year_added'].value_counts().sort_index()\n",
        "\n",
        "plt.figure(figsize=(10, 6))\n",
        "sns.lineplot(x=titles_by_year.index, y=titles_by_year.values, marker='o', color='coral')\n",
        "plt.title('Netflix Content Added Over the Years')\n",
        "plt.xlabel('Year')\n",
        "plt.ylabel('Number of Titles Added')\n",
        "plt.xticks(rotation=45)\n",
        "plt.grid(True)\n",
        "plt.tight_layout()\n",
        "plt.show()"
      ],
      "metadata": {
        "id": "TdPTWpAVphqO"
      },
      "execution_count": null,
      "outputs": []
    },
    {
      "cell_type": "markdown",
      "source": [
        "##### 1. Why did you pick the specific chart?"
      ],
      "metadata": {
        "id": "jj7wYXLtphqO"
      }
    },
    {
      "cell_type": "markdown",
      "source": [
        "A line plot is ideal to visualize how the number of titles added to Netflix has changed over time, showing clear growth trends or drops year-over-year."
      ],
      "metadata": {
        "id": "Ob8u6rCTphqO"
      }
    },
    {
      "cell_type": "markdown",
      "source": [
        "##### 2. What is/are the insight(s) found from the chart?"
      ],
      "metadata": {
        "id": "eZrbJ2SmphqO"
      }
    },
    {
      "cell_type": "markdown",
      "source": [
        "- There is a steady increase in content additions from around 2015 to 2019.\n",
        "\n",
        "- A slight drop or stagnation is visible post-2020, possibly due to the pandemic impacting production schedules."
      ],
      "metadata": {
        "id": "mZtgC_hjphqO"
      }
    },
    {
      "cell_type": "markdown",
      "source": [
        "##### 3. Will the gained insights help creating a positive business impact?\n",
        "Are there any insights that lead to negative growth? Justify with specific reason."
      ],
      "metadata": {
        "id": "rFu4xreNphqO"
      }
    },
    {
      "cell_type": "markdown",
      "source": [
        "Yes:\n",
        "\n",
        "- It reflects growth strategy and content expansion timeline.\n",
        "\n",
        "- Netflix can analyze which years performed better in terms of viewership vs. additions.\n",
        "\n",
        "- Post-2020 data can trigger risk analysis for future disruptions and improve resilience planning.\n",
        "\n"
      ],
      "metadata": {
        "id": "ey_0qi68phqO"
      }
    },
    {
      "cell_type": "markdown",
      "source": [
        "#### Chart - 9:  Top 10 Countries Producing Netflix Content"
      ],
      "metadata": {
        "id": "YJ55k-q6phqO"
      }
    },
    {
      "cell_type": "code",
      "source": [
        "# Chart - 9 visualization code\n",
        "# Count the most frequent countries (some entries have multiple countries separated by commas)\n",
        "country_counts = df_clean['country'].dropna().str.split(',').explode().str.strip().value_counts().head(10)\n",
        "\n",
        "# Plot the bar chart\n",
        "plt.figure(figsize=(10, 6))\n",
        "sns.barplot(x=country_counts.values, y=country_counts.index, palette='viridis')\n",
        "plt.title('Top 10 Countries Producing Netflix Content')\n",
        "plt.xlabel('Number of Titles')\n",
        "plt.ylabel('Country')\n",
        "plt.tight_layout()\n",
        "plt.show()"
      ],
      "metadata": {
        "id": "B2aS4O1ophqO"
      },
      "execution_count": null,
      "outputs": []
    },
    {
      "cell_type": "markdown",
      "source": [
        "##### 1. Why did you pick the specific chart?"
      ],
      "metadata": {
        "id": "gCFgpxoyphqP"
      }
    },
    {
      "cell_type": "markdown",
      "source": [
        "A horizontal bar chart helps in clearly comparing the number of titles across the top 10 countries, especially since country names can be long."
      ],
      "metadata": {
        "id": "TVxDimi2phqP"
      }
    },
    {
      "cell_type": "markdown",
      "source": [
        "##### 2. What is/are the insight(s) found from the chart?"
      ],
      "metadata": {
        "id": "OVtJsKN_phqQ"
      }
    },
    {
      "cell_type": "markdown",
      "source": [
        "- The United States is the leading content contributor by a large margin.\n",
        "\n",
        "- Other countries like India, the UK, Canada, and France also contribute significantly.\n",
        "\n",
        "- There is a diverse international presence, showing Netflix’s global content strategy.\n",
        "\n"
      ],
      "metadata": {
        "id": "ngGi97qjphqQ"
      }
    },
    {
      "cell_type": "markdown",
      "source": [
        "##### 3. Will the gained insights help creating a positive business impact?\n",
        "Are there any insights that lead to negative growth? Justify with specific reason."
      ],
      "metadata": {
        "id": "lssrdh5qphqQ"
      }
    },
    {
      "cell_type": "markdown",
      "source": [
        "Yes:\n",
        "\n",
        "- This can help focus regional strategies—localize marketing or invest more in high-performing regions.\n",
        "\n",
        "- Emerging contributors like India and South Korea can be seen as growing content hubs.\n",
        "\n",
        "- A good global mix reduces reliance on a single content source, aiding business stability."
      ],
      "metadata": {
        "id": "tBpY5ekJphqQ"
      }
    },
    {
      "cell_type": "markdown",
      "source": [
        "#### Chart - 10: Distribution of Content Rating on Netflix\n",
        "\n"
      ],
      "metadata": {
        "id": "U2RJ9gkRphqQ"
      }
    },
    {
      "cell_type": "code",
      "source": [
        "# Chart - 10 visualization code\n",
        "# Count the rating occurrences\n",
        "rating_counts = df_clean['rating'].value_counts().head(10)\n",
        "\n",
        "# Plotting the bar chart\n",
        "plt.figure(figsize=(10, 6))\n",
        "sns.barplot(x=rating_counts.index, y=rating_counts.values, palette='cubehelix')\n",
        "plt.title('Top 10 Most Common Content Ratings on Netflix')\n",
        "plt.xlabel('Rating')\n",
        "plt.ylabel('Number of Titles')\n",
        "plt.xticks(rotation=45)\n",
        "plt.tight_layout()\n",
        "plt.show()"
      ],
      "metadata": {
        "id": "GM7a4YP4phqQ"
      },
      "execution_count": null,
      "outputs": []
    },
    {
      "cell_type": "markdown",
      "source": [
        "##### 1. Why did you pick the specific chart?"
      ],
      "metadata": {
        "id": "1M8mcRywphqQ"
      }
    },
    {
      "cell_type": "markdown",
      "source": [
        "A bar chart is ideal for comparing the frequency of categorical values such as content ratings. It quickly highlights which ratings dominate the platform."
      ],
      "metadata": {
        "id": "8agQvks0phqQ"
      }
    },
    {
      "cell_type": "markdown",
      "source": [
        "##### 2. What is/are the insight(s) found from the chart?"
      ],
      "metadata": {
        "id": "tgIPom80phqQ"
      }
    },
    {
      "cell_type": "markdown",
      "source": [
        "- The majority of content is rated TV-MA (Mature Audience), followed by TV-14, TV-PG, and R.\n",
        "\n",
        "- This indicates that Netflix heavily features mature content, catering to adult audiences."
      ],
      "metadata": {
        "id": "Qp13pnNzphqQ"
      }
    },
    {
      "cell_type": "markdown",
      "source": [
        "##### 3. Will the gained insights help creating a positive business impact?\n",
        "Are there any insights that lead to negative growth? Justify with specific reason."
      ],
      "metadata": {
        "id": "JMzcOPDDphqR"
      }
    },
    {
      "cell_type": "markdown",
      "source": [
        "Yes:\n",
        "\n",
        "- Understanding content rating distribution can help Netflix align content recommendations with audience preferences.\n",
        "\n",
        "- It may reveal gaps in family/kid-friendly content, which can be addressed by investing in more PG/G-rated titles to expand family viewership.\n",
        "\n",
        "- Strategically balancing mature and general content can broaden target demographics."
      ],
      "metadata": {
        "id": "R4Ka1PC2phqR"
      }
    },
    {
      "cell_type": "markdown",
      "source": [
        "#### Chart - 11: Top 10 Most Common Directors on Netflix"
      ],
      "metadata": {
        "id": "x-EpHcCOp1ci"
      }
    },
    {
      "cell_type": "code",
      "source": [
        "# Chart - 11 visualization code\n",
        "plt.figure(figsize=(12,6))\n",
        "top_directors = df_clean['director'].value_counts().head(10)\n",
        "sns.barplot(x=top_directors.values, y=top_directors.index, palette='coolwarm')\n",
        "plt.title('Top 10 Directors with Most Titles on Netflix', fontsize=14)\n",
        "plt.xlabel('Number of Titles')\n",
        "plt.ylabel('Director')\n",
        "plt.tight_layout()\n",
        "plt.show()"
      ],
      "metadata": {
        "id": "mAQTIvtqp1cj"
      },
      "execution_count": null,
      "outputs": []
    },
    {
      "cell_type": "markdown",
      "source": [
        "##### 1. Why did you pick the specific chart?"
      ],
      "metadata": {
        "id": "X_VqEhTip1ck"
      }
    },
    {
      "cell_type": "markdown",
      "source": [
        "This chart reveals which directors have the most content on Netflix, highlighting production trends and valuable creative partnerships."
      ],
      "metadata": {
        "id": "-vsMzt_np1ck"
      }
    },
    {
      "cell_type": "markdown",
      "source": [
        "##### 2. What is/are the insight(s) found from the chart?"
      ],
      "metadata": {
        "id": "8zGJKyg5p1ck"
      }
    },
    {
      "cell_type": "markdown",
      "source": [
        "- Certain directors (e.g., Raúl Campos & Jan Suter) appear frequently, often in regional or documentary content.\n",
        "\n",
        "- Some directors dominate niche categories, which can shape curation and recommendation algorithms.\n",
        "\n"
      ],
      "metadata": {
        "id": "ZYdMsrqVp1ck"
      }
    },
    {
      "cell_type": "markdown",
      "source": [
        "##### 3. Will the gained insights help creating a positive business impact?\n",
        "Are there any insights that lead to negative growth? Justify with specific reason."
      ],
      "metadata": {
        "id": "PVzmfK_Ep1ck"
      }
    },
    {
      "cell_type": "markdown",
      "source": [
        "Yes.\n",
        "- Understanding popular or prolific directors can guide content acquisition, marketing strategies, and even talent partnerships."
      ],
      "metadata": {
        "id": "druuKYZpp1ck"
      }
    },
    {
      "cell_type": "markdown",
      "source": [
        "#### Chart - 12: Top 10 Most Common Ratings on Netflix"
      ],
      "metadata": {
        "id": "n3dbpmDWp1ck"
      }
    },
    {
      "cell_type": "code",
      "source": [
        "# Chart - 12 visualization code\n",
        "# Top 10 most frequent ratings\n",
        "top_ratings = df_clean['rating'].value_counts().head(10)\n",
        "\n",
        "# Plotting\n",
        "plt.figure(figsize=(10, 6))\n",
        "sns.barplot(x=top_ratings.values, y=top_ratings.index, palette=\"coolwarm\")\n",
        "plt.title('Top 10 Most Common Ratings on Netflix')\n",
        "plt.xlabel('Number of Titles')\n",
        "plt.ylabel('Rating')\n",
        "plt.grid(axis='x', linestyle='--', alpha=0.6)\n",
        "plt.tight_layout()\n",
        "plt.show()"
      ],
      "metadata": {
        "id": "bwevp1tKp1ck"
      },
      "execution_count": null,
      "outputs": []
    },
    {
      "cell_type": "markdown",
      "source": [
        "##### 1. Why did you pick the specific chart?"
      ],
      "metadata": {
        "id": "ylSl6qgtp1ck"
      }
    },
    {
      "cell_type": "markdown",
      "source": [
        "A horizontal bar chart effectively compares categorical values like content ratings and allows longer rating names to be displayed cleanly."
      ],
      "metadata": {
        "id": "m2xqNkiQp1ck"
      }
    },
    {
      "cell_type": "markdown",
      "source": [
        "##### 2. What is/are the insight(s) found from the chart?"
      ],
      "metadata": {
        "id": "ZWILFDl5p1ck"
      }
    },
    {
      "cell_type": "markdown",
      "source": [
        "- TV-MA and TV-14 are the most frequently used ratings.\n",
        "\n",
        "- These ratings suggest a large portion of Netflix's library is targeted at mature audiences and teens.\n",
        "\n",
        "- Very few titles are marked with kid-friendly ratings like TV-Y7 or TV-G."
      ],
      "metadata": {
        "id": "x-lUsV2mp1ck"
      }
    },
    {
      "cell_type": "markdown",
      "source": [
        "##### 3. Will the gained insights help creating a positive business impact?\n",
        "Are there any insights that lead to negative growth? Justify with specific reason."
      ],
      "metadata": {
        "id": "M7G43BXep1ck"
      }
    },
    {
      "cell_type": "markdown",
      "source": [
        "Yes:\n",
        "\n",
        "- Netflix can analyze audience demographics and understand if they’re leaning too heavily into mature content.\n",
        "\n",
        "- If Netflix wants to grow in family or kids' markets, it may consider increasing content with lower ratings.\n",
        "\n",
        "- It can help with personalized marketing or content curation strategies by aligning new content with popular rating trends."
      ],
      "metadata": {
        "id": "5wwDJXsLp1cl"
      }
    },
    {
      "cell_type": "markdown",
      "source": [
        "#### Chart - 13: Content Type Trend Over the Years (Movies vs. TV Shows)"
      ],
      "metadata": {
        "id": "Ag9LCva-p1cl"
      }
    },
    {
      "cell_type": "code",
      "source": [
        "# Chart - 13 visualization code\n",
        "# Count of Movies and TV Shows over the years\n",
        "type_trend = df_clean.groupby(['release_year', 'type']).size().unstack().fillna(0)\n",
        "\n",
        "# Plotting\n",
        "plt.figure(figsize=(12, 6))\n",
        "type_trend.plot(kind='line', marker='o', linewidth=2, figsize=(12, 6))\n",
        "plt.title('Content Type Trend Over the Years')\n",
        "plt.xlabel('Release Year')\n",
        "plt.ylabel('Number of Titles')\n",
        "plt.grid(True, linestyle='--', alpha=0.5)\n",
        "plt.xticks(rotation=45)\n",
        "plt.tight_layout()\n",
        "plt.show()"
      ],
      "metadata": {
        "id": "EUfxeq9-p1cl"
      },
      "execution_count": null,
      "outputs": []
    },
    {
      "cell_type": "markdown",
      "source": [
        "##### 1. Why did you pick the specific chart?"
      ],
      "metadata": {
        "id": "E6MkPsBcp1cl"
      }
    },
    {
      "cell_type": "markdown",
      "source": [
        "A line chart is ideal for showing temporal trends, such as how the number of Movies and TV Shows released has changed over time."
      ],
      "metadata": {
        "id": "V22bRsFWp1cl"
      }
    },
    {
      "cell_type": "markdown",
      "source": [
        "##### 2. What is/are the insight(s) found from the chart?"
      ],
      "metadata": {
        "id": "2cELzS2fp1cl"
      }
    },
    {
      "cell_type": "markdown",
      "source": [
        "- There is a steady increase in Movies added over the years, peaking around 2018–2019.\n",
        "\n",
        "- TV Shows also saw a rise, especially post-2016, indicating Netflix’s strategic focus on original series.\n",
        "\n",
        "- A dip post-2020 may reflect the impact of the COVID-19 pandemic on content production.\n",
        "\n"
      ],
      "metadata": {
        "id": "ozQPc2_Ip1cl"
      }
    },
    {
      "cell_type": "markdown",
      "source": [
        "##### 3. Will the gained insights help creating a positive business impact?\n",
        "Are there any insights that lead to negative growth? Justify with specific reason."
      ],
      "metadata": {
        "id": "3MPXvC8up1cl"
      }
    },
    {
      "cell_type": "markdown",
      "source": [
        "Yes:\n",
        "\n",
        "- This analysis can inform content acquisition strategies based on historical demand.\n",
        "\n",
        "- Identifying growth areas (e.g., surge in TV Shows) helps in deciding resource allocation for future production.\n",
        "\n",
        "- Helps stakeholders understand how Netflix’s content mix has evolved, aiding in forecasting future trends and subscriber expectations."
      ],
      "metadata": {
        "id": "GL8l1tdLp1cl"
      }
    },
    {
      "cell_type": "markdown",
      "source": [
        "#### Chart - 14 - Correlation Heatmap(Numerical Features)"
      ],
      "metadata": {
        "id": "NC_X3p0fY2L0"
      }
    },
    {
      "cell_type": "code",
      "source": [
        "# Correlation Heatmap visualization code\n",
        "# Selecting only numerical columns\n",
        "numerical_df = df_clean.select_dtypes(include=['int64', 'float64'])\n",
        "\n",
        "# Correlation matrix\n",
        "corr_matrix = numerical_df.corr()\n",
        "\n",
        "# Heatmap\n",
        "plt.figure(figsize=(8, 6))\n",
        "sns.heatmap(corr_matrix, annot=True, fmt=\".2f\", cmap='coolwarm', square=True, linewidths=.5)\n",
        "plt.title('Correlation Heatmap of Numerical Features')\n",
        "plt.tight_layout()\n",
        "plt.show()"
      ],
      "metadata": {
        "id": "xyC9zolEZNRQ"
      },
      "execution_count": null,
      "outputs": []
    },
    {
      "cell_type": "markdown",
      "source": [
        "##### 1. Why did you pick the specific chart?"
      ],
      "metadata": {
        "id": "UV0SzAkaZNRQ"
      }
    },
    {
      "cell_type": "markdown",
      "source": [
        "A correlation heatmap is a standard tool for visualizing the strength and direction of linear relationships between multiple numerical variables."
      ],
      "metadata": {
        "id": "DVPuT8LYZNRQ"
      }
    },
    {
      "cell_type": "markdown",
      "source": [
        "##### 2. What is/are the insight(s) found from the chart?"
      ],
      "metadata": {
        "id": "YPEH6qLeZNRQ"
      }
    },
    {
      "cell_type": "markdown",
      "source": [
        "There are very weak or negligible correlations among the numerical features (release_year, duration_int), meaning:\n",
        "\n",
        "- Release year does not significantly impact content duration.\n",
        "\n",
        "- Duration isn’t driven by time trends; it’s likely genre- or format-specific.\n",
        "\n"
      ],
      "metadata": {
        "id": "bfSqtnDqZNRR"
      }
    },
    {
      "cell_type": "markdown",
      "source": [
        "#### Chart - 15 - Pair Plot (Multivariate Exploration)"
      ],
      "metadata": {
        "id": "q29F0dvdveiT"
      }
    },
    {
      "cell_type": "code",
      "source": [
        "# Pair Plot visualization code\n",
        "\n",
        "import seaborn as sns\n",
        "import matplotlib.pyplot as plt\n",
        "\n",
        "# Selecting a subset of the dataset for better visualization\n",
        "pairplot_df = df_clean[['release_year', 'duration_int', 'type']]\n",
        "\n",
        "# Create the pair plot\n",
        "sns.pairplot(pairplot_df, hue='type', diag_kind='kde', palette='Set1')\n",
        "plt.suptitle(\"Pair Plot of Release Year, Duration & Type\", y=1.02)\n",
        "plt.show()"
      ],
      "metadata": {
        "id": "o58-TEIhveiU"
      },
      "execution_count": null,
      "outputs": []
    },
    {
      "cell_type": "markdown",
      "source": [
        "##### 1. Why did you pick the specific chart?"
      ],
      "metadata": {
        "id": "EXh0U9oCveiU"
      }
    },
    {
      "cell_type": "markdown",
      "source": [
        "A pair plot is perfect for understanding multivariate relationships and distribution overlaps across categories—especially useful when comparing across classes like Movie vs TV Show."
      ],
      "metadata": {
        "id": "eMmPjTByveiU"
      }
    },
    {
      "cell_type": "markdown",
      "source": [
        "##### 2. What is/are the insight(s) found from the chart?"
      ],
      "metadata": {
        "id": "22aHeOlLveiV"
      }
    },
    {
      "cell_type": "markdown",
      "source": [
        "- TV Shows tend to have shorter durations (1-2 seasons), while Movies vary more widely.\n",
        "\n",
        "- The release years for both types largely overlap, but recent years show a surge in TV Shows.\n",
        "\n",
        "- A few outliers exist in duration, indicating extremely long movies or series."
      ],
      "metadata": {
        "id": "uPQ8RGwHveiV"
      }
    },
    {
      "cell_type": "markdown",
      "source": [
        "## **5. Solution to Business Objective**"
      ],
      "metadata": {
        "id": "JcMwzZxoAimU"
      }
    },
    {
      "cell_type": "markdown",
      "source": [
        "#### What do you suggest the client to achieve Business Objective ?\n",
        "Explain Briefly."
      ],
      "metadata": {
        "id": "8G2x9gOozGDZ"
      }
    },
    {
      "cell_type": "markdown",
      "source": [
        "To help the client (a streaming platform like Netflix) achieve their business objective of maximizing viewer engagement and satisfaction, I suggest the following:\n",
        "\n",
        "1. Content Strategy Based on Audience Trends\n",
        "Focus more on producing or acquiring content in genres that are most popular (e.g., Documentaries, Dramas, and International TV). These categories consistently show higher presence in the dataset.\n",
        "\n",
        "2. Enhance Regional Personalization\n",
        "Since a significant volume of content originates from specific countries (like the U.S. and India), the platform can expand into region-specific content production and local language dubbing to capture more regional audiences.\n",
        "\n",
        "3. Optimize Release Timing\n",
        "Leverage insights from peak release years and seasonal patterns (e.g., spikes around specific months) to plan strategic content drops and marketing campaigns that align with high-viewership periods.\n",
        "\n",
        "4. Segmented Recommendations:\n",
        "   Use duration and content type (TV vs Movie) to improve recommendation systems:\n",
        "\n",
        "- Short-duration content can be recommended during weekdays or to casual viewers.\n",
        "\n",
        "- Long-duration content and series for weekends or binge-watchers.\n",
        "\n",
        "5. Filling Content Gaps:\n",
        "Produce more content in underrepresented genres or countries to expand diversity and explore untapped viewer segments.\n",
        "\n",
        "✅ These actions, guided by EDA findings, will help the platform:\n",
        "\n",
        "- Boost user retention and acquisition.\n",
        "\n",
        "- Enhance customer satisfaction through personalized experiences.\n",
        "\n",
        "- Improve the ROI on content investments.\n",
        "\n"
      ],
      "metadata": {
        "id": "pASKb0qOza21"
      }
    },
    {
      "cell_type": "markdown",
      "source": [
        "# **Conclusion**"
      ],
      "metadata": {
        "id": "gCX9965dhzqZ"
      }
    },
    {
      "cell_type": "markdown",
      "source": [
        "Through this comprehensive Exploratory Data Analysis (EDA) of the Netflix dataset, we derived several valuable insights:\n",
        "\n",
        "1. Content Dominance: Movies significantly outnumber TV Shows, indicating a strong focus on one-off content rather than long-term series.\n",
        "\n",
        "2. Top Contributing Countries: The U.S., India, and the U.K. are major contributors to Netflix’s content library. This insight highlights geographic strengths and possible regional expansion opportunities.\n",
        "\n",
        "3. Trending Content: Dramas, Documentaries, and International content dominate genre preferences, providing guidance for future content investment.\n",
        "\n",
        "4. Content Duration Patterns: TV Shows usually span over one or multiple seasons, while Movies vary widely in duration—ideal for different viewer segments and time availability.\n",
        "\n",
        "5. Release & Addition Trends: Recent years (especially 2018–2020) show a significant increase in content additions, reflecting Netflix's growth and evolving content strategy.\n",
        "\n",
        "These insights empower data-driven decisions in areas such as content acquisition, regional strategy, user engagement, and marketing timing.\n",
        "\n",
        "Final Note:\n",
        "- This EDA demonstrates how data storytelling and structured visualization can uncover hidden trends and offer actionable business value. Future steps could include building a recommendation engine or running predictive models to further optimize content strategies.\n",
        "\n",
        "\n",
        "\n"
      ],
      "metadata": {
        "id": "Fjb1IsQkh3yE"
      }
    }
  ]
}